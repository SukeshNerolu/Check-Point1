{
 "cells": [
  {
   "cell_type": "code",
   "execution_count": 11,
   "id": "d36739b7",
   "metadata": {},
   "outputs": [
    {
     "name": "stdout",
     "output_type": "stream",
     "text": [
      "Collecting sqlparse\n",
      "  Downloading sqlparse-0.4.2-py3-none-any.whl (42 kB)\n",
      "Installing collected packages: sqlparse\n",
      "Successfully installed sqlparse-0.4.2\n",
      "Note: you may need to restart the kernel to use updated packages.\n"
     ]
    }
   ],
   "source": [
    "pip install sqlparse"
   ]
  },
  {
   "cell_type": "code",
   "execution_count": 12,
   "id": "abbccaae",
   "metadata": {},
   "outputs": [
    {
     "name": "stdout",
     "output_type": "stream",
     "text": [
      "tablename\n",
      "None\n",
      "{'col1': 'tablename', 'col2': 'tablename'}\n"
     ]
    }
   ],
   "source": [
    "import sqlparse\n",
    "\n",
    "sql_query = 'SELECT col1, col2 FROM tablename'\n",
    "\n",
    "parsed_query = sqlparse.parse(sql_query)[0]\n",
    "\n",
    "def extract_columns(sql_sttmnt):\n",
    "    column_names = []\n",
    "    for token in sql_sttmnt.tokens:\n",
    "        if token.ttype is None:\n",
    "            for tok in token.tokens:\n",
    "                if tok.ttype is None:\n",
    "                    column_names.append(tok.value)\n",
    "            break\n",
    "    return column_names\n",
    "\n",
    "table_names = []\n",
    "\n",
    "def traverse_query(sql_sttmnt, is_table):\n",
    "    next_is_table = False\n",
    "    if is_table:\n",
    "        print(sql_sttmnt.value)\n",
    "        print(sql_sttmnt.ttype)\n",
    "        table_names.append(sql_sttmnt.value)\n",
    "    for token in sql_sttmnt.tokens:\n",
    "        if token.ttype is None:\n",
    "            traverse_query(token, next_is_table)\n",
    "            next_is_table = False\n",
    "        else:\n",
    "            if token.value.lower() == 'from':\n",
    "                next_is_table = True\n",
    "\n",
    "traverse_query(parsed_query, False)\n",
    "# print(table_names)\n",
    "\n",
    "\n",
    "col_dict = {}\n",
    "\n",
    "columns = extract_columns(parsed_query)\n",
    "for col in columns:\n",
    "    col_dict[col] = table_names[0]\n",
    "\n",
    "print(col_dict)"
   ]
  },
  {
   "cell_type": "code",
   "execution_count": null,
   "id": "5d4ce99a",
   "metadata": {},
   "outputs": [],
   "source": []
  },
  {
   "cell_type": "code",
   "execution_count": null,
   "id": "3cea7f75",
   "metadata": {},
   "outputs": [],
   "source": []
  },
  {
   "cell_type": "code",
   "execution_count": null,
   "id": "2b1e77c6",
   "metadata": {},
   "outputs": [],
   "source": []
  },
  {
   "cell_type": "code",
   "execution_count": null,
   "id": "c4ab2fd2",
   "metadata": {},
   "outputs": [],
   "source": []
  },
  {
   "cell_type": "code",
   "execution_count": null,
   "id": "4f363d02",
   "metadata": {},
   "outputs": [],
   "source": []
  },
  {
   "cell_type": "code",
   "execution_count": null,
   "id": "878585a3",
   "metadata": {},
   "outputs": [],
   "source": []
  },
  {
   "cell_type": "code",
   "execution_count": null,
   "id": "593a3b3f",
   "metadata": {},
   "outputs": [],
   "source": []
  },
  {
   "cell_type": "code",
   "execution_count": null,
   "id": "e4254f9b",
   "metadata": {},
   "outputs": [],
   "source": []
  }
 ],
 "metadata": {
  "kernelspec": {
   "display_name": "Python 3 (ipykernel)",
   "language": "python",
   "name": "python3"
  },
  "language_info": {
   "codemirror_mode": {
    "name": "ipython",
    "version": 3
   },
   "file_extension": ".py",
   "mimetype": "text/x-python",
   "name": "python",
   "nbconvert_exporter": "python",
   "pygments_lexer": "ipython3",
   "version": "3.9.7"
  }
 },
 "nbformat": 4,
 "nbformat_minor": 5
}
