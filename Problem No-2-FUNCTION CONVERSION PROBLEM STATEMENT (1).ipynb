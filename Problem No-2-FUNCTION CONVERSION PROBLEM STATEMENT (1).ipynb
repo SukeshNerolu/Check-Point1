{
 "cells": [
  {
   "cell_type": "code",
   "execution_count": 2,
   "id": "9044c965",
   "metadata": {},
   "outputs": [],
   "source": [
    "import numpy as np\n",
    "import pandas as pd"
   ]
  },
  {
   "cell_type": "code",
   "execution_count": 16,
   "id": "c796106d",
   "metadata": {},
   "outputs": [
    {
     "name": "stdout",
     "output_type": "stream",
     "text": [
      "Collecting azure-mgmt-resource\n",
      "  Downloading azure_mgmt_resource-21.1.0-py3-none-any.whl (1.8 MB)\n",
      "Collecting msrest>=0.6.21\n",
      "  Downloading msrest-0.7.1-py3-none-any.whl (85 kB)\n",
      "Collecting azure-mgmt-core<2.0.0,>=1.3.0\n",
      "  Downloading azure_mgmt_core-1.3.1-py3-none-any.whl (26 kB)\n",
      "Collecting azure-common~=1.1\n",
      "  Downloading azure_common-1.1.28-py2.py3-none-any.whl (14 kB)\n",
      "Collecting azure-core<2.0.0,>=1.23.0\n",
      "  Downloading azure_core-1.25.0-py3-none-any.whl (178 kB)\n",
      "Note: you may need to restart the kernel to use updated packages.Requirement already satisfied: requests>=2.18.4 in c:\\users\\sukesh\\anaconda3\\lib\\site-packages (from azure-core<2.0.0,>=1.23.0->azure-mgmt-core<2.0.0,>=1.3.0->azure-mgmt-resource) (2.26.0)\n",
      "Collecting typing-extensions>=4.0.1\n",
      "  Downloading typing_extensions-4.3.0-py3-none-any.whl (25 kB)\n",
      "Requirement already satisfied: six>=1.11.0 in c:\\users\\sukesh\\anaconda3\\lib\\site-packages (from azure-core<2.0.0,>=1.23.0->azure-mgmt-core<2.0.0,>=1.3.0->azure-mgmt-resource) (1.16.0)\n",
      "Requirement already satisfied: certifi>=2017.4.17 in c:\\users\\sukesh\\anaconda3\\lib\\site-packages (from msrest>=0.6.21->azure-mgmt-resource) (2021.10.8)\n",
      "Collecting isodate>=0.6.0\n",
      "  Downloading isodate-0.6.1-py2.py3-none-any.whl (41 kB)\n",
      "\n",
      "Requirement already satisfied: requests-oauthlib>=0.5.0 in c:\\users\\sukesh\\anaconda3\\lib\\site-packages (from msrest>=0.6.21->azure-mgmt-resource) (1.3.1)\n",
      "Requirement already satisfied: charset-normalizer~=2.0.0 in c:\\users\\sukesh\\anaconda3\\lib\\site-packages (from requests>=2.18.4->azure-core<2.0.0,>=1.23.0->azure-mgmt-core<2.0.0,>=1.3.0->azure-mgmt-resource) (2.0.4)\n",
      "Requirement already satisfied: idna<4,>=2.5 in c:\\users\\sukesh\\anaconda3\\lib\\site-packages (from requests>=2.18.4->azure-core<2.0.0,>=1.23.0->azure-mgmt-core<2.0.0,>=1.3.0->azure-mgmt-resource) (3.2)\n",
      "Requirement already satisfied: urllib3<1.27,>=1.21.1 in c:\\users\\sukesh\\anaconda3\\lib\\site-packages (from requests>=2.18.4->azure-core<2.0.0,>=1.23.0->azure-mgmt-core<2.0.0,>=1.3.0->azure-mgmt-resource) (1.26.7)\n",
      "Requirement already satisfied: oauthlib>=3.0.0 in c:\\users\\sukesh\\anaconda3\\lib\\site-packages (from requests-oauthlib>=0.5.0->msrest>=0.6.21->azure-mgmt-resource) (3.2.0)\n",
      "Installing collected packages: typing-extensions, isodate, azure-core, msrest, azure-mgmt-core, azure-common, azure-mgmt-resource\n",
      "  Attempting uninstall: typing-extensions\n",
      "    Found existing installation: typing-extensions 3.10.0.2\n",
      "    Uninstalling typing-extensions-3.10.0.2:\n",
      "      Successfully uninstalled typing-extensions-3.10.0.2\n",
      "Successfully installed azure-common-1.1.28 azure-core-1.25.0 azure-mgmt-core-1.3.1 azure-mgmt-resource-21.1.0 isodate-0.6.1 msrest-0.7.1 typing-extensions-4.3.0\n"
     ]
    }
   ],
   "source": [
    "pip install azure-mgmt-resource"
   ]
  },
  {
   "cell_type": "code",
   "execution_count": 17,
   "id": "798ffc4d",
   "metadata": {},
   "outputs": [
    {
     "name": "stdout",
     "output_type": "stream",
     "text": [
      "Collecting azure-mgmt-datafactory\n",
      "  Downloading azure_mgmt_datafactory-2.7.0-py3-none-any.whl (435 kB)\n",
      "Requirement already satisfied: msrest>=0.6.21 in c:\\users\\sukesh\\anaconda3\\lib\\site-packages (from azure-mgmt-datafactory) (0.7.1)\n",
      "Requirement already satisfied: azure-common~=1.1 in c:\\users\\sukesh\\anaconda3\\lib\\site-packages (from azure-mgmt-datafactory) (1.1.28)\n",
      "Requirement already satisfied: azure-mgmt-core<2.0.0,>=1.3.1 in c:\\users\\sukesh\\anaconda3\\lib\\site-packages (from azure-mgmt-datafactory) (1.3.1)\n",
      "Requirement already satisfied: azure-core<2.0.0,>=1.23.0 in c:\\users\\sukesh\\anaconda3\\lib\\site-packages (from azure-mgmt-core<2.0.0,>=1.3.1->azure-mgmt-datafactory) (1.25.0)\n",
      "Requirement already satisfied: six>=1.11.0 in c:\\users\\sukesh\\anaconda3\\lib\\site-packages (from azure-core<2.0.0,>=1.23.0->azure-mgmt-core<2.0.0,>=1.3.1->azure-mgmt-datafactory) (1.16.0)\n",
      "Requirement already satisfied: typing-extensions>=4.0.1 in c:\\users\\sukesh\\anaconda3\\lib\\site-packages (from azure-core<2.0.0,>=1.23.0->azure-mgmt-core<2.0.0,>=1.3.1->azure-mgmt-datafactory) (4.3.0)\n",
      "Requirement already satisfied: requests>=2.18.4 in c:\\users\\sukesh\\anaconda3\\lib\\site-packages (from azure-core<2.0.0,>=1.23.0->azure-mgmt-core<2.0.0,>=1.3.1->azure-mgmt-datafactory) (2.26.0)\n",
      "Requirement already satisfied: requests-oauthlib>=0.5.0 in c:\\users\\sukesh\\anaconda3\\lib\\site-packages (from msrest>=0.6.21->azure-mgmt-datafactory) (1.3.1)\n",
      "Requirement already satisfied: isodate>=0.6.0 in c:\\users\\sukesh\\anaconda3\\lib\\site-packages (from msrest>=0.6.21->azure-mgmt-datafactory) (0.6.1)\n",
      "Requirement already satisfied: certifi>=2017.4.17 in c:\\users\\sukesh\\anaconda3\\lib\\site-packages (from msrest>=0.6.21->azure-mgmt-datafactory) (2021.10.8)\n",
      "Requirement already satisfied: charset-normalizer~=2.0.0 in c:\\users\\sukesh\\anaconda3\\lib\\site-packages (from requests>=2.18.4->azure-core<2.0.0,>=1.23.0->azure-mgmt-core<2.0.0,>=1.3.1->azure-mgmt-datafactory) (2.0.4)\n",
      "Requirement already satisfied: idna<4,>=2.5 in c:\\users\\sukesh\\anaconda3\\lib\\site-packages (from requests>=2.18.4->azure-core<2.0.0,>=1.23.0->azure-mgmt-core<2.0.0,>=1.3.1->azure-mgmt-datafactory) (3.2)\n",
      "Requirement already satisfied: urllib3<1.27,>=1.21.1 in c:\\users\\sukesh\\anaconda3\\lib\\site-packages (from requests>=2.18.4->azure-core<2.0.0,>=1.23.0->azure-mgmt-core<2.0.0,>=1.3.1->azure-mgmt-datafactory) (1.26.7)\n",
      "Requirement already satisfied: oauthlib>=3.0.0 in c:\\users\\sukesh\\anaconda3\\lib\\site-packages (from requests-oauthlib>=0.5.0->msrest>=0.6.21->azure-mgmt-datafactory) (3.2.0)\n",
      "Installing collected packages: azure-mgmt-datafactory\n",
      "Successfully installed azure-mgmt-datafactory-2.7.0\n",
      "Note: you may need to restart the kernel to use updated packages.\n"
     ]
    }
   ],
   "source": [
    "pip install azure-mgmt-datafactory"
   ]
  },
  {
   "cell_type": "code",
   "execution_count": 18,
   "id": "d8d7489b",
   "metadata": {},
   "outputs": [
    {
     "name": "stdout",
     "output_type": "stream",
     "text": [
      "Collecting azure-identity\n",
      "  Downloading azure_identity-1.10.0-py3-none-any.whl (134 kB)\n",
      "Requirement already satisfied: cryptography>=2.5 in c:\\users\\sukesh\\anaconda3\\lib\\site-packages (from azure-identity) (3.4.8)\n",
      "Requirement already satisfied: azure-core<2.0.0,>=1.11.0 in c:\\users\\sukesh\\anaconda3\\lib\\site-packages (from azure-identity) (1.25.0)\n",
      "Requirement already satisfied: six>=1.12.0 in c:\\users\\sukesh\\anaconda3\\lib\\site-packages (from azure-identity) (1.16.0)\n",
      "Collecting msal<2.0.0,>=1.12.0\n",
      "  Downloading msal-1.18.0-py2.py3-none-any.whl (82 kB)\n",
      "Collecting msal-extensions<2.0.0,>=0.3.0\n",
      "  Downloading msal_extensions-1.0.0-py2.py3-none-any.whl (19 kB)\n",
      "Requirement already satisfied: typing-extensions>=4.0.1 in c:\\users\\sukesh\\anaconda3\\lib\\site-packages (from azure-core<2.0.0,>=1.11.0->azure-identity) (4.3.0)\n",
      "Requirement already satisfied: requests>=2.18.4 in c:\\users\\sukesh\\anaconda3\\lib\\site-packages (from azure-core<2.0.0,>=1.11.0->azure-identity) (2.26.0)\n",
      "Requirement already satisfied: cffi>=1.12 in c:\\users\\sukesh\\anaconda3\\lib\\site-packages (from cryptography>=2.5->azure-identity) (1.14.6)\n",
      "Requirement already satisfied: pycparser in c:\\users\\sukesh\\anaconda3\\lib\\site-packages (from cffi>=1.12->cryptography>=2.5->azure-identity) (2.20)\n",
      "Requirement already satisfied: PyJWT[crypto]<3,>=1.0.0 in c:\\users\\sukesh\\anaconda3\\lib\\site-packages (from msal<2.0.0,>=1.12.0->azure-identity) (2.1.0)\n",
      "Collecting portalocker<3,>=1.6\n",
      "  Downloading portalocker-2.5.1-py2.py3-none-any.whl (15 kB)\n",
      "Requirement already satisfied: pywin32>=226 in c:\\users\\sukesh\\anaconda3\\lib\\site-packages (from portalocker<3,>=1.6->msal-extensions<2.0.0,>=0.3.0->azure-identity) (228)\n",
      "Requirement already satisfied: certifi>=2017.4.17 in c:\\users\\sukesh\\anaconda3\\lib\\site-packages (from requests>=2.18.4->azure-core<2.0.0,>=1.11.0->azure-identity) (2021.10.8)\n",
      "Requirement already satisfied: charset-normalizer~=2.0.0 in c:\\users\\sukesh\\anaconda3\\lib\\site-packages (from requests>=2.18.4->azure-core<2.0.0,>=1.11.0->azure-identity) (2.0.4)\n",
      "Requirement already satisfied: urllib3<1.27,>=1.21.1 in c:\\users\\sukesh\\anaconda3\\lib\\site-packages (from requests>=2.18.4->azure-core<2.0.0,>=1.11.0->azure-identity) (1.26.7)\n",
      "Requirement already satisfied: idna<4,>=2.5 in c:\\users\\sukesh\\anaconda3\\lib\\site-packages (from requests>=2.18.4->azure-core<2.0.0,>=1.11.0->azure-identity) (3.2)\n",
      "Installing collected packages: portalocker, msal, msal-extensions, azure-identity\n",
      "Successfully installed azure-identity-1.10.0 msal-1.18.0 msal-extensions-1.0.0 portalocker-2.5.1\n",
      "Note: you may need to restart the kernel to use updated packages.\n"
     ]
    }
   ],
   "source": [
    "pip install azure-identity"
   ]
  },
  {
   "cell_type": "code",
   "execution_count": 19,
   "id": "ca45d574",
   "metadata": {},
   "outputs": [],
   "source": [
    "from azure.identity import ClientSecretCredential \n",
    "from azure.mgmt.resource import ResourceManagementClient\n",
    "from azure.mgmt.datafactory import DataFactoryManagementClient\n",
    "from azure.mgmt.datafactory.models import *\n",
    "from datetime import datetime, timedelta\n",
    "import time"
   ]
  },
  {
   "cell_type": "code",
   "execution_count": 20,
   "id": "1014cfa6",
   "metadata": {},
   "outputs": [],
   "source": [
    "def print_item(group):\n",
    "    \"\"\"Print an Azure object instance.\"\"\"\n",
    "    print(\"\\tName: {}\".format(group.name))\n",
    "    print(\"\\tId: {}\".format(group.id))\n",
    "    if hasattr(group, 'location'):\n",
    "        print(\"\\tLocation: {}\".format(group.location))\n",
    "    if hasattr(group, 'tags'):\n",
    "        print(\"\\tTags: {}\".format(group.tags))\n",
    "    if hasattr(group, 'properties'):\n",
    "        print_properties(group.properties)\n",
    "\n",
    "def print_properties(props):\n",
    "    \"\"\"Print a ResourceGroup properties instance.\"\"\"\n",
    "    if props and hasattr(props, 'provisioning_state') and props.provisioning_state:\n",
    "        print(\"\\tProperties:\")\n",
    "        print(\"\\t\\tProvisioning State: {}\".format(props.provisioning_state))\n",
    "    print(\"\\n\\n\")\n",
    "\n",
    "def print_activity_run_details(activity_run):\n",
    "    \"\"\"Print activity run details.\"\"\"\n",
    "    print(\"\\n\\tActivity run details\\n\")\n",
    "    print(\"\\tActivity run status: {}\".format(activity_run.status))\n",
    "    if activity_run.status == 'Succeeded':\n",
    "        print(\"\\tNumber of bytes read: {}\".format(activity_run.output['dataRead']))\n",
    "        print(\"\\tNumber of bytes written: {}\".format(activity_run.output['dataWritten']))\n",
    "        print(\"\\tCopy duration: {}\".format(activity_run.output['copyDuration']))\n",
    "    else:\n",
    "        print(\"\\tErrors: {}\".format(activity_run.error['message']))"
   ]
  },
  {
   "cell_type": "code",
   "execution_count": 21,
   "id": "1701c9e5",
   "metadata": {},
   "outputs": [],
   "source": [
    "def main():\n",
    "\n",
    "    # Azure subscription ID\n",
    "    subscription_id = '<subscription ID>'\n",
    "\n",
    "    # This program creates this resource group. If it's an existing resource group, comment out the code that creates the resource group\n",
    "    rg_name = '<resource group>'\n",
    "\n",
    "    # The data factory name. It must be globally unique.\n",
    "    df_name = '<factory name>'\n",
    "\n",
    "    # Specify your Active Directory client ID, client secret, and tenant ID\n",
    "    credentials = ClientSecretCredential(client_id='<Application (client) ID>', client_secret='<client secret value>', tenant_id='<tenant ID>') \n",
    "\n",
    "    # Specify following for Soverign Clouds, import right cloud constant and then use it to connect.\n",
    "    # from msrestazure.azure_cloud import AZURE_PUBLIC_CLOUD as CLOUD\n",
    "    # credentials = DefaultAzureCredential(authority=CLOUD.endpoints.active_directory, tenant_id=tenant_id)\n",
    "\n",
    "    resource_client = ResourceManagementClient(credentials, subscription_id)\n",
    "    adf_client = DataFactoryManagementClient(credentials, subscription_id)\n",
    "\n",
    "    rg_params = {'location':'westus'}\n",
    "    df_params = {'location':'westus'}"
   ]
  },
  {
   "cell_type": "code",
   "execution_count": 6,
   "id": "017a1085",
   "metadata": {},
   "outputs": [
    {
     "data": {
      "text/plain": [
       "datetime.datetime(2022, 8, 6, 6, 5, 45, 602462)"
      ]
     },
     "execution_count": 6,
     "metadata": {},
     "output_type": "execute_result"
    }
   ],
   "source": [
    "from datetime import datetime\n",
    "datetime.utcnow()"
   ]
  },
  {
   "cell_type": "code",
   "execution_count": 22,
   "id": "8c7bf0ba",
   "metadata": {},
   "outputs": [],
   "source": [
    "def get_curr_date(adf_DT) :\n",
    "    day = utcnow('dd')\n",
    "    month = utcnow('MM')\n",
    "    year = utcnow('yyyy')\n",
    "    curr_dt = day + '/' + month + '/' + year\n",
    "    return curr_dt"
   ]
  },
  {
   "cell_type": "code",
   "execution_count": 24,
   "id": "a56d8a93",
   "metadata": {},
   "outputs": [
    {
     "name": "stdout",
     "output_type": "stream",
     "text": [
      "day: 06\n",
      "month: 08\n",
      "year: 2022\n",
      "time: 12:13:02\n",
      "date and time: 08/06/2022, 12:13:02\n"
     ]
    }
   ],
   "source": [
    "# app.py\n",
    "\n",
    "from datetime import datetime\n",
    "\n",
    "# current date and time\n",
    "curDT = datetime.now()\n",
    "\n",
    "# current day\n",
    "day = curDT.strftime(\"%d\")\n",
    "print(\"day:\", day)\n",
    "\n",
    "# current month\n",
    "month = curDT.strftime(\"%m\")\n",
    "print(\"month:\", month)\n",
    "\n",
    "# current year\n",
    "year = curDT.strftime(\"%Y\")\n",
    "print(\"year:\", year)\n",
    "\n",
    "# current time\n",
    "time = curDT.strftime(\"%H:%M:%S\")\n",
    "print(\"time:\", time)\n",
    "\n",
    "# current date and time\n",
    "date_time = curDT.strftime(\"%m/%d/%Y, %H:%M:%S\")\n",
    "print(\"date and time:\", date_time)"
   ]
  },
  {
   "cell_type": "markdown",
   "id": "92666cff",
   "metadata": {},
   "source": [
    "# Return Date"
   ]
  },
  {
   "cell_type": "code",
   "execution_count": 46,
   "id": "1a6a1953",
   "metadata": {},
   "outputs": [],
   "source": [
    "def get_curr_date(adf) :\n",
    "    day = utcnow('dd')\n",
    "    month = utcnow('MM')\n",
    "    year = utcnow('yyyy')\n",
    "    curr_dt = year + '/' + month + '/' + day\n",
    "    return curr_dt"
   ]
  },
  {
   "cell_type": "code",
   "execution_count": 47,
   "id": "44a85247",
   "metadata": {},
   "outputs": [
    {
     "data": {
      "text/plain": [
       "datetime.datetime(2022, 8, 6, 14, 19, 44, 126678)"
      ]
     },
     "execution_count": 47,
     "metadata": {},
     "output_type": "execute_result"
    }
   ],
   "source": [
    "import time\n",
    "import datetime\n",
    "from time import mktime\n",
    "from datetime import datetime as dt\n",
    "dt.fromtimestamp\n",
    "datetime.datetime.now()"
   ]
  },
  {
   "cell_type": "markdown",
   "id": "21a48d71",
   "metadata": {},
   "source": [
    "# CurrentTimestamp"
   ]
  },
  {
   "cell_type": "code",
   "execution_count": 49,
   "id": "fb872bfd",
   "metadata": {},
   "outputs": [],
   "source": [
    "def get_curr_TS(adf) :\n",
    "    day = utcnow('dd')\n",
    "    month = utcnow('MM')\n",
    "    year = utcnow('yyyy')\n",
    "    Hr = utcnow('HH')\n",
    "    Min = utcnow('mm')\n",
    "    Sec= utcnow('ss')\n",
    "    curr_dt_stamp = year + '/' + month + '/' + day + '/' + Hr+ '/' +Min+ '/' + Sec\n",
    "    return curr_dt_stamp"
   ]
  },
  {
   "cell_type": "markdown",
   "id": "4275d5ad",
   "metadata": {},
   "source": [
    "# DateFromDaysSince2"
   ]
  },
  {
   "cell_type": "code",
   "execution_count": 50,
   "id": "8dedfc57",
   "metadata": {},
   "outputs": [],
   "source": [
    "def get_curr_DateFromDaysSince2(adf) :\n",
    "    from datetime import date\n",
    "    day = utcnow('dd')\n",
    "    month = utcnow('MM')\n",
    "    year = utcnow('yyyy')\n",
    "    curr_dt = year + '/' + month + '/' + day \n",
    "    d0 = curr_dt\n",
    "    d1 = date.today()\n",
    "    delta = d1 - d0\n",
    "    print(delta.days)\n",
    "    return delta"
   ]
  },
  {
   "cell_type": "markdown",
   "id": "ebad062b",
   "metadata": {},
   "source": [
    "# MinutesFromTime"
   ]
  },
  {
   "cell_type": "code",
   "execution_count": 51,
   "id": "9d38101b",
   "metadata": {},
   "outputs": [],
   "source": [
    "def get_curr_MinutesFromTime(adf):\n",
    "    from datetime import date\n",
    "    Min = utcnow('mm')\n",
    "    return Min\n"
   ]
  },
  {
   "cell_type": "markdown",
   "id": "17063ead",
   "metadata": {},
   "source": [
    "# TimetFromTimestamp"
   ]
  },
  {
   "cell_type": "code",
   "execution_count": null,
   "id": "573f1aed",
   "metadata": {},
   "outputs": [],
   "source": [
    "#Yet to Execute\n",
    "#import datetime\n",
    "#now = datetime.datetime.now()\n",
    "#print(now.minute)"
   ]
  },
  {
   "cell_type": "markdown",
   "id": "5d668055",
   "metadata": {},
   "source": [
    "# BitAnd"
   ]
  },
  {
   "cell_type": "code",
   "execution_count": 52,
   "id": "60211b56",
   "metadata": {},
   "outputs": [],
   "source": [
    "def BitAND(adf):\n",
    "    Val_1=input()\n",
    "    Val_2=input()\n",
    "    Val_Final= Val_1 & Val_2\n",
    "    return Val_Final"
   ]
  },
  {
   "cell_type": "markdown",
   "id": "2288f986",
   "metadata": {},
   "source": [
    "# BitCompress"
   ]
  },
  {
   "cell_type": "code",
   "execution_count": null,
   "id": "2862264c",
   "metadata": {},
   "outputs": [],
   "source": []
  },
  {
   "cell_type": "markdown",
   "id": "771bac02",
   "metadata": {},
   "source": [
    "# Abs"
   ]
  },
  {
   "cell_type": "code",
   "execution_count": 53,
   "id": "032baa0a",
   "metadata": {},
   "outputs": [],
   "source": [
    "def Abs(adf):\n",
    "    Val_1=input()\n",
    "    Val_2=input()\n",
    "    Val_Final= Val_1-Val_2\n",
    "    return Val_Final"
   ]
  },
  {
   "cell_type": "markdown",
   "id": "c575852e",
   "metadata": {},
   "source": [
    "# Floor"
   ]
  },
  {
   "cell_type": "code",
   "execution_count": 59,
   "id": "378c0827",
   "metadata": {},
   "outputs": [],
   "source": [
    "def Floor(adf):\n",
    "    import math\n",
    "    Val=input()\n",
    "    Val_Floor=math.floor(Val)\n",
    "    return Val_Floor"
   ]
  },
  {
   "cell_type": "markdown",
   "id": "d3c2077f",
   "metadata": {},
   "source": [
    "# Random"
   ]
  },
  {
   "cell_type": "code",
   "execution_count": null,
   "id": "d110e202",
   "metadata": {},
   "outputs": [],
   "source": [
    "def Random(adf):\n",
    "    import random\n",
    "    num = random.random()\n",
    "    return num"
   ]
  },
  {
   "cell_type": "markdown",
   "id": "14aed7d8",
   "metadata": {},
   "source": [
    "# IsNotNull"
   ]
  },
  {
   "cell_type": "code",
   "execution_count": null,
   "id": "ba35c135",
   "metadata": {},
   "outputs": [],
   "source": [
    "def IsNotNull(adf):\n",
    "    # importing pandas package\n",
    "    import pandas as pd\n",
    "    # making data frame from csv file\n",
    "    data = pd.read_csv(\"CSV FILE\")\n",
    "    # creating bool series False for NaN values\n",
    "    bool_series = pd.notnull(data[\"Col\"])\n",
    "    # displayed data only with team = NaN\n",
    "    return data[bool_series]\n"
   ]
  },
  {
   "cell_type": "markdown",
   "id": "343baf6d",
   "metadata": {},
   "source": [
    "# NullToValue"
   ]
  },
  {
   "cell_type": "code",
   "execution_count": 54,
   "id": "226367f1",
   "metadata": {},
   "outputs": [],
   "source": [
    "def NullToValue(adf):\n",
    "    # importing pandas package\n",
    "    import pandas as pd\n",
    "    # making data frame from csv file\n",
    "    data = pd.read_csv(\"CSV FILE\")\n",
    "    # creating bool series False for NaN values\n",
    "    bool_series = pd.notnull(data[\"Col\"])\n",
    "    # displayed data  = NaN\n",
    "    Val=input() #mean, mode or median\n",
    "    data[bool_series][NaN]==Val\n",
    "    return data[bool_series]"
   ]
  },
  {
   "cell_type": "markdown",
   "id": "5355f475",
   "metadata": {},
   "source": [
    "# AsDouble"
   ]
  },
  {
   "cell_type": "code",
   "execution_count": 56,
   "id": "574ee2f8",
   "metadata": {},
   "outputs": [],
   "source": [
    "def AsDouble(adf):\n",
    "    # importing pandas package\n",
    "    import math\n",
    "    import numpy as np\n",
    "    Val1=float(input())\n",
    "    Val2=float(input())\n",
    "    Val_Final=double(Val1/Val2)\n",
    "    return Val_Final"
   ]
  },
  {
   "cell_type": "markdown",
   "id": "88729294",
   "metadata": {},
   "source": [
    "# MantissaFromDecimal"
   ]
  },
  {
   "cell_type": "code",
   "execution_count": 58,
   "id": "a167a826",
   "metadata": {},
   "outputs": [],
   "source": [
    "def MantissaFromDecimal(adf):\n",
    "    decNum = input()\n",
    "    frac = decNum % 1\n",
    "    return frac"
   ]
  },
  {
   "cell_type": "markdown",
   "id": "cfd43a1f",
   "metadata": {},
   "source": [
    "# RawLength"
   ]
  },
  {
   "cell_type": "code",
   "execution_count": 57,
   "id": "7d532f69",
   "metadata": {},
   "outputs": [],
   "source": [
    "def RawLength(adf):\n",
    "    elements = ['abc\\n', 'def\\t']\n",
    "    for e in elements:\n",
    "        RawLen=(len(e.encode(\"unicode_escape\")))\n",
    "    return RawLen"
   ]
  },
  {
   "cell_type": "markdown",
   "id": "0d163b80",
   "metadata": {},
   "source": [
    "# AlNum"
   ]
  },
  {
   "cell_type": "code",
   "execution_count": null,
   "id": "8ce9da48",
   "metadata": {},
   "outputs": [],
   "source": [
    "def AlNum(adf):\n",
    "    s = input()\n",
    "    Num = s.isalnum()\n",
    "    return Num"
   ]
  },
  {
   "cell_type": "markdown",
   "id": "bc7097f8",
   "metadata": {},
   "source": [
    "# Change"
   ]
  },
  {
   "cell_type": "code",
   "execution_count": 60,
   "id": "335a0686",
   "metadata": {},
   "outputs": [],
   "source": [
    "def Change(adf):\n",
    "    string_a = input()\n",
    "    x_replace=input()\n",
    "    string_b = string_a.replace(\"string['col']\", \"x_replace\")\n",
    "    string_a_new=string_a\n",
    "    string_b_new=string_b\n",
    "    return string_a_new, string_b_new"
   ]
  },
  {
   "cell_type": "markdown",
   "id": "909aa9cd",
   "metadata": {},
   "source": [
    "# Compare"
   ]
  },
  {
   "cell_type": "code",
   "execution_count": 61,
   "id": "a4f39990",
   "metadata": {},
   "outputs": [],
   "source": [
    "def Compare(adf):\n",
    "    str1 = input(\"Enter the first String: \")\n",
    "    str2 = input(\"Enter the second String: \")\n",
    "    if str1 == str2:\n",
    "        Str_Eq= (\"First and second strings are equal and same\")\n",
    "    else:\n",
    "        Str_NotEq=(\"First and second strings are not same\")\n",
    "    return Str_Eq, Str_NotEq"
   ]
  },
  {
   "cell_type": "markdown",
   "id": "c065a6df",
   "metadata": {},
   "source": [
    "# Field"
   ]
  },
  {
   "cell_type": "code",
   "execution_count": 62,
   "id": "0194833d",
   "metadata": {},
   "outputs": [],
   "source": [
    "def Field(adf):\n",
    "    def printSubsInDelimiters(string) :\n",
    "        # Stores the indices\n",
    "        dels = [];\n",
    "        for i in range(len(string)):\n",
    "            # If opening delimiter is encountered\n",
    "            if (string[i] == '[') :\n",
    "                dels.append(i);\n",
    "                # If closing delimiter is encountered\n",
    "            elif (string[i] == ']' and len(dels) != 0) :\n",
    "                # Extract the position of opening delimiter\n",
    "                pos = dels[-1];\n",
    "                dels.pop();\n",
    "                # Length of substring\n",
    "                length = i - 1 - pos;\n",
    "                # Extract the substring\n",
    "                ans = string[pos + 1 : pos + 1 + length];\n",
    "                return ans;"
   ]
  },
  {
   "cell_type": "markdown",
   "id": "b2744eb3",
   "metadata": {},
   "source": [
    "# Str"
   ]
  },
  {
   "cell_type": "code",
   "execution_count": null,
   "id": "5d265aba",
   "metadata": {},
   "outputs": [],
   "source": [
    "def Str(adf):\n",
    "    str1=input()\n",
    "    multiplr=input(\"input number: \")\n",
    "    repeat_string = str1*multiplr\n",
    "    "
   ]
  }
 ],
 "metadata": {
  "kernelspec": {
   "display_name": "Python 3 (ipykernel)",
   "language": "python",
   "name": "python3"
  },
  "language_info": {
   "codemirror_mode": {
    "name": "ipython",
    "version": 3
   },
   "file_extension": ".py",
   "mimetype": "text/x-python",
   "name": "python",
   "nbconvert_exporter": "python",
   "pygments_lexer": "ipython3",
   "version": "3.9.7"
  }
 },
 "nbformat": 4,
 "nbformat_minor": 5
}
